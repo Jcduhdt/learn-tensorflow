{
 "cells": [
  {
   "cell_type": "code",
   "execution_count": null,
   "metadata": {},
   "outputs": [],
   "source": [
    "import tensorflow as tf\n",
    "import matplotlib.pyplot as plt\n",
    "import numpy as np\n",
    "from tensorflow.examples.tutorials.mnist import input_data\n",
    "import warnings\n",
    "tf.set_random_seed(1)\n",
    "np.random.seed(1)\n",
    "warnings.filterwarnings(\"ignore\")# 关掉警告，真是太棒了 \n",
    "# 关掉警告第二次有效，但是这个程序只能不断重新开始kernel，否则会因为rnn的命名产生错误\n",
    "# 两个出现矛盾了\n",
    "# 代码是按照python深度学习基于tensorflow的第十五章LSTM写的"
   ]
  },
  {
   "cell_type": "code",
   "execution_count": null,
   "metadata": {},
   "outputs": [],
   "source": [
    "# 载入数据集\n",
    "mnist = input_data.read_data_sets(\"E:/tensorflow/MNIST_data\",one_hot=True)\n",
    "# 查看数据集大小\n",
    "print(mnist.train.images.shape)\n",
    "print(mnist.train.labels.shape)\n",
    "print(mnist.test.images.shape)\n",
    "print(mnist.test.labels.shape)"
   ]
  },
  {
   "cell_type": "code",
   "execution_count": null,
   "metadata": {},
   "outputs": [],
   "source": [
    "# 可视化其中一张图片\n",
    "plt.imshow(mnist.train.images[0].reshape((28,28)),cmap='gray')\n",
    "plt.title('%i'% np.argmax(mnist.train.labels[0]))\n",
    "plt.show()"
   ]
  },
  {
   "cell_type": "code",
   "execution_count": null,
   "metadata": {},
   "outputs": [],
   "source": [
    "# 定义超参数\n",
    "BATCH_SIZE = 64\n",
    "TIME_STEP = 28 # RNN的时间步，一张图片需要读取28行 高度\n",
    "INPUT_SIZE = 28 # RNN的输步长，每次读取的向量长度，即每行由28个像素点构成 宽度\n",
    "LR = 0.01 # 定义学习率Learning Rate\n",
    "\n",
    "# 读入数据\n",
    "test_x = mnist.test.images[:2000]\n",
    "test_y = mnist.test.labels[:2000]\n",
    "\n",
    "#定义表示x向量的tensorflow placehoders\n",
    "tf_x = tf.placeholder(tf.float32,[None,TIME_STEP*INPUT_SIZE])# 形状为(batch,784)\n",
    "image = tf.reshape(tf_x,[-1,TIME_STEP,INPUT_SIZE])\n",
    "# 定义表示y向量的tensorflow placehoders\n",
    "tf_y = tf.placeholder(tf.int32,[None,10])\n",
    "\n",
    "# RNN的循环结构体，使用LSTM结构\n",
    "rnn_cell = tf.contrib.rnn.BasicLSTMCell(num_units=64)\n",
    "# 构建网络\n",
    "outputs,(h_c,h_n) = tf.nn.dynamic_rnn(\n",
    "    rnn_cell,              # LSTM cell\n",
    "    image,                 # 输入图片\n",
    "    initial_state = None, # 隐藏层的初始化状态\n",
    "    dtype = tf.float32,    # 如果initial_state = None,dtype必须给定\n",
    "    time_major = False    # TIME_STEP是否在输入数据的第一个维度  \n",
    "    # Fasle:(batch,time_step,input)  True:(time_step,batch,input)\n",
    ")\n",
    "# 取最后一个时刻的输出作为读完每张图片后的最后输出\n",
    "output = tf.layers.dense(outputs[:,-1,:],10)\n",
    "# 计算损失函数\n",
    "loss = tf.losses.softmax_cross_entropy(onehot_labels=tf_y,logits=output)# 使用交叉熵损失\n",
    "# 定义训练过程\n",
    "train_op = tf.train.AdamOptimizer(LR).minimize(loss)\n",
    "# 计算预测精度\n",
    "accuracy = tf.metrics.accuracy(labels=tf.argmax(tf_y,axis=1),predictions=tf.argmax(output,axis=1))[1]\n",
    "sess = tf.Session()\n",
    "# 初始化精度计算中所需要的变量\n",
    "init_op = tf.group(tf.global_variables_initializer(),tf.local_variables_initializer())\n",
    "# 初始化计算图中的变量\n",
    "sess.run(init_op)\n",
    "\n",
    "# 开始训练\n",
    "for step in range(1200):\n",
    "    b_x,b_y = mnist.train.next_batch(BATCH_SIZE)\n",
    "    _,loss_ = sess.run([train_op,loss],{tf_x:b_x,tf_y:b_y})\n",
    "    if step % 50 == 0: # 计算精度\n",
    "        accuracy_ = sess.run(accuracy,{tf_x:test_x,tf_y:test_y})\n",
    "        print('train loss:%.4f' % loss_,'| test accuracy: %.2f' % accuracy_)\n",
    "# 输出测试集中的十个预测结果\n",
    "test_output = sess.run(output,{tf_x:test_x[:10]})\n",
    "pred_y = np.argmax(test_output,1)\n",
    "print(pred_y,'prediction number')\n",
    "print(np.argmax(test_y[:10],1),'real number')"
   ]
  },
  {
   "cell_type": "code",
   "execution_count": null,
   "metadata": {},
   "outputs": [],
   "source": []
  }
 ],
 "metadata": {
  "kernelspec": {
   "display_name": "Python 3",
   "language": "python",
   "name": "python3"
  },
  "language_info": {
   "codemirror_mode": {
    "name": "ipython",
    "version": 3
   },
   "file_extension": ".py",
   "mimetype": "text/x-python",
   "name": "python",
   "nbconvert_exporter": "python",
   "pygments_lexer": "ipython3",
   "version": "3.6.5"
  }
 },
 "nbformat": 4,
 "nbformat_minor": 2
}
