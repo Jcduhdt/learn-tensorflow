{
 "cells": [
  {
   "cell_type": "code",
   "execution_count": null,
   "metadata": {},
   "outputs": [],
   "source": [
    "# 不行啊，虽然把权值控制在了[-1,1]这个范围，但是输出只有一个神经元，怎么能按照公式那种进行每个神经元单独反馈呢 \n",
    "import tensorflow as tf\n",
    "import numpy as np\n",
    "import matplotlib.pyplot as plt\n",
    "import scipy.io as scio\n",
    "import warnings\n",
    "warnings.filterwarnings(\"ignore\")"
   ]
  },
  {
   "cell_type": "code",
   "execution_count": null,
   "metadata": {},
   "outputs": [],
   "source": [
    "# 读取mat文件\n",
    "dataPath = 'E:/tensorflow/data_set/WCDMA/wcdma.mat'\n",
    "data = scio.loadmat(dataPath)\n",
    "print(type(data))"
   ]
  },
  {
   "cell_type": "code",
   "execution_count": null,
   "metadata": {},
   "outputs": [],
   "source": [
    "print(data.keys())# 打印字典的键\n",
    "# train_test = data['input']\n",
    "# train_test_1 = train_test[np.newaxis,:]\n",
    "# print(np.shape(data['input'][np.newaxis,:,0]))"
   ]
  },
  {
   "cell_type": "code",
   "execution_count": null,
   "metadata": {},
   "outputs": [],
   "source": [
    "# 跟着网上学的next_batch喂给placeholder\n",
    "def next_batch(data, batch_size):  \n",
    "    index = [ i for i in range(0,np.size(data[0]))]  \n",
    "    np.random.shuffle(index)  # 打乱顺序\n",
    "    batch_data = []\n",
    "    for i in range(0,batch_size):  \n",
    "        batch_data.append(data[:,index[i]])\n",
    "    return batch_data"
   ]
  },
  {
   "cell_type": "code",
   "execution_count": null,
   "metadata": {},
   "outputs": [],
   "source": [
    "# 参数设定\n",
    "BATCH_SIZE = 16\n",
    "\n",
    "x_train = np.real(data['input']).astype('float32')\n",
    "y = 38400\n",
    "\n",
    "tf_x = tf.placeholder(tf.float32,[None,38400])\n",
    "tf_w = tf.Variable(tf.random_uniform([38400,1],minval=-1,maxval=1,dtype=tf.float32),name='seq')\n",
    "prediction = tf.matmul(tf_x,tf_w)\n",
    "# loss = tf.sqrt(tf.reduce_mean(tf.abs(tf.multiply(tf.matmul(tf.transpose(tf_w),tf_w),tf.transpose(tf_x))-tf.multiply(tf.matmul(tf.transpose(tf_w),tf.transpose(tf_x)),tf_w))))\n",
    "loss = tf.reduce_mean(1/tf.abs(prediction))\n",
    "train = tf.train.AdamOptimizer(1e-4).minimize(loss)\n",
    "\n",
    "D_vars = tf.get_collection(tf.GraphKeys.GLOBAL_VARIABLES, 'seq')\n",
    "clip_ops = []\n",
    "for var in D_vars:\n",
    "    clip_bounds = [-1,1]\n",
    "    clip_ops.append(\n",
    "        tf.assign(\n",
    "            var, \n",
    "            tf.clip_by_value(var, clip_bounds[0], clip_bounds[1])\n",
    "        )\n",
    "    )\n",
    "clip_disc_weights = tf.group(*clip_ops)\n",
    "correct_prediction = tf.equal(np.real(data['sc']).astype('float32'),tf.sign(tf_w))\n",
    "accuracy = tf.reduce_mean(tf.cast(correct_prediction,tf.float32))\n",
    "init = tf.global_variables_initializer()\n",
    "\n",
    "with tf.Session() as sess:\n",
    "    sess.run(init)\n",
    "    for i in range(100000):\n",
    "        b_x = next_batch(x_train,BATCH_SIZE)\n",
    "        sess.run(train,{tf_x:b_x})\n",
    "        _ = sess.run(clip_disc_weights)\n",
    "        \n",
    "        if i%500 == 0:\n",
    "            print(i,sess.run(loss,{tf_x:b_x}),sess.run(accuracy))"
   ]
  },
  {
   "cell_type": "code",
   "execution_count": null,
   "metadata": {},
   "outputs": [],
   "source": []
  }
 ],
 "metadata": {
  "kernelspec": {
   "display_name": "Python 3",
   "language": "python",
   "name": "python3"
  },
  "language_info": {
   "codemirror_mode": {
    "name": "ipython",
    "version": 3
   },
   "file_extension": ".py",
   "mimetype": "text/x-python",
   "name": "python",
   "nbconvert_exporter": "python",
   "pygments_lexer": "ipython3",
   "version": "3.6.5"
  }
 },
 "nbformat": 4,
 "nbformat_minor": 2
}
