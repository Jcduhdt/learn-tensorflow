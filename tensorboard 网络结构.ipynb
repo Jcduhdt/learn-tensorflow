{
 "cells": [
  {
   "cell_type": "code",
   "execution_count": 1,
   "metadata": {
    "collapsed": true
   },
   "outputs": [],
   "source": [
    "import tensorflow as tf\n",
    "from tensorflow.examples.tutorials.mnist import input_data"
   ]
  },
  {
   "cell_type": "code",
   "execution_count": 4,
   "metadata": {
    "collapsed": false
   },
   "outputs": [
    {
     "name": "stdout",
     "output_type": "stream",
     "text": [
      "Extracting D:\\Anaconda3\\Tensorflow\\MNIST_data\\train-images-idx3-ubyte.gz\n",
      "Extracting D:\\Anaconda3\\Tensorflow\\MNIST_data\\train-labels-idx1-ubyte.gz\n",
      "Extracting D:\\Anaconda3\\Tensorflow\\MNIST_data\\t10k-images-idx3-ubyte.gz\n",
      "Extracting D:\\Anaconda3\\Tensorflow\\MNIST_data\\t10k-labels-idx1-ubyte.gz\n",
      "Iter 0, Testing Accuracy 0.8252\n",
      "Iter 1, Testing Accuracy 0.8927\n",
      "Iter 2, Testing Accuracy 0.9011\n",
      "Iter 3, Testing Accuracy 0.9062\n",
      "Iter 4, Testing Accuracy 0.9084\n",
      "Iter 5, Testing Accuracy 0.91\n",
      "Iter 6, Testing Accuracy 0.9118\n",
      "Iter 7, Testing Accuracy 0.9136\n",
      "Iter 8, Testing Accuracy 0.9142\n",
      "Iter 9, Testing Accuracy 0.9162\n",
      "Iter 10, Testing Accuracy 0.9173\n",
      "Iter 11, Testing Accuracy 0.9178\n",
      "Iter 12, Testing Accuracy 0.9187\n",
      "Iter 13, Testing Accuracy 0.9197\n",
      "Iter 14, Testing Accuracy 0.9197\n",
      "Iter 15, Testing Accuracy 0.9205\n",
      "Iter 16, Testing Accuracy 0.9208\n",
      "Iter 17, Testing Accuracy 0.9207\n",
      "Iter 18, Testing Accuracy 0.9208\n",
      "Iter 19, Testing Accuracy 0.9208\n",
      "Iter 20, Testing Accuracy 0.9221\n"
     ]
    }
   ],
   "source": [
    "mnist = input_data.read_data_sets(\"D:\\Anaconda3\\Tensorflow\\MNIST_data\",one_hot=True)\n",
    "batch_size = 100\n",
    "n_batch = mnist.train.num_examples // batch_size\n",
    "\n",
    "#命名空间\n",
    "with tf.name_scope('input'):\n",
    "    x = tf.placeholder(tf.float32,[None,784],name='x-input')\n",
    "    y = tf.placeholder(tf.float32,[None,10],name='y-input')\n",
    "\n",
    "with tf.name_scope('layer'):\n",
    "    with tf.name_scope('weights'):\n",
    "        w = tf.Variable(tf.zeros([784,10]),name='w')\n",
    "    with tf.name_scope('biases'):\n",
    "        b = tf.Variable(tf.zeros([10]),name='b')\n",
    "    with tf.name_scope('wx_plus_b'):\n",
    "        wx_plus_b = tf.matmul(x,w) + b\n",
    "    with tf.name_scope('softmax'):\n",
    "        prediction = tf.nn.softmax(wx_plus_b)\n",
    "with tf.name_scope('loss'):\n",
    "    #loss = tf.reduce_mean(tf.square(y - prediction))\n",
    "    loss = tf.reduce_mean(tf.nn.softmax_cross_entropy_with_logits(labels = y,logits = prediction))\n",
    "with tf.name_scope('train'):\n",
    "    train = tf.train.GradientDescentOptimizer(0.2).minimize(loss)\n",
    "init = tf.global_variables_initializer()\n",
    "\n",
    "with tf.name_scope('accuracy'):\n",
    "    with tf.name_scope('correct_prediction'):\n",
    "        correct_prediction = tf.equal(tf.argmax(y,1),tf.argmax(prediction,1))\n",
    "    with tf.name_scope('accuracy'):\n",
    "        accuracy = tf.reduce_mean(tf.cast(correct_prediction,tf.float32))\n",
    "\n",
    "with tf.Session() as sess:\n",
    "    sess.run(init)\n",
    "    #引号内即路径，存放graph结构\n",
    "    writer = tf.summary.FileWriter('D:/Anaconda3/Tensorflow/logs/',sess.graph)\n",
    "    for epoch in range(21):\n",
    "        for batch in range(n_batch):\n",
    "            batch_xs,batch_yx = mnist.train.next_batch(batch_size)\n",
    "            sess.run(train,feed_dict={x:batch_xs,y:batch_yx})\n",
    "            \n",
    "        acc = sess.run(accuracy,feed_dict={x:mnist.test.images,y:mnist.test.labels})\n",
    "        print(\"Iter \"+ str(epoch) + \", Testing Accuracy \"+ str(acc))"
   ]
  },
  {
   "cell_type": "code",
   "execution_count": 3,
   "metadata": {
    "collapsed": true
   },
   "outputs": [],
   "source": [
    "#win+r  cmd   tensorboard --logdir=D:\\Anaconda3\\Tensorflow\\logs\n",
    "#then copy the address to browser"
   ]
  }
 ],
 "metadata": {
  "kernelspec": {
   "display_name": "Python [default]",
   "language": "python",
   "name": "python3"
  },
  "language_info": {
   "codemirror_mode": {
    "name": "ipython",
    "version": 3
   },
   "file_extension": ".py",
   "mimetype": "text/x-python",
   "name": "python",
   "nbconvert_exporter": "python",
   "pygments_lexer": "ipython3",
   "version": "3.5.2"
  }
 },
 "nbformat": 4,
 "nbformat_minor": 1
}
