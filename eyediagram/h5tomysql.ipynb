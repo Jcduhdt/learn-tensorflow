{
 "cells": [
  {
   "cell_type": "code",
   "execution_count": null,
   "metadata": {
    "collapsed": true
   },
   "outputs": [],
   "source": [
    "# 利用h5py读h5文件，把数据集和标签读出来\n",
    "# 用pymysql与mysql连接，创建表和插入数据\n",
    "import h5py\n",
    "import pymysql\n",
    "import numpy as np\n",
    "import time"
   ]
  },
  {
   "cell_type": "code",
   "execution_count": null,
   "metadata": {
    "collapsed": true
   },
   "outputs": [],
   "source": [
    "def encode(s):\n",
    "    return ' '.join([bin(ord(c)).replace('0b', '') for c in s])\n",
    " \n",
    "def decode(s):\n",
    "    return ''.join([chr(i) for i in [int(b, 2) for b in s.split(' ')]])"
   ]
  },
  {
   "cell_type": "code",
   "execution_count": null,
   "metadata": {
    "collapsed": false
   },
   "outputs": [],
   "source": [
    "np.set_printoptions(threshold=np.inf)# 将数组全部显示\n",
    "#HDF5的读取：  \n",
    "f = h5py.File(r'C:\\Users\\Administrator\\Desktop\\eyediagram\\eyediagram.h5','r')   #打开h5文件  \n",
    "# 可以查看所有的主键  \n",
    "eye_values = []\n",
    "for key in f.keys(): \n",
    "    print(key)\n",
    "    print(f[key].name)      \n",
    "    print(f[key].shape)      \n",
    "    #print(f[key].value)\n",
    "dataset = np.transpose(f['data'])# h5文件有许多字段\n",
    "#比如师兄的data字段和labels字段，这样就选取特定字段\n",
    "# 这里是转置，转成(201,360,460)\n",
    "eye_num = dataset.shape[0]# 数据集个数\n",
    "print(eye_num)\n",
    "eye_size = str(dataset.shape[1:3])# 图片尺寸(360,460)\n",
    "print(eye_size)\n",
    "eye_value = dataset[0,:,:]# 数字那就是每层（每个图片）\n",
    "# print(eye_value)\n",
    "# print(len(str(eye_value)))# 就是一个图片的数组转换成字符串有多少个字符串 852120\n",
    "labels = f['labels']\n",
    "# print(labels[200])\n",
    "\n",
    "# snr\n",
    "snr = np.linspace(-10,10,201)\n",
    "# print(snr)"
   ]
  },
  {
   "cell_type": "code",
   "execution_count": null,
   "metadata": {
    "collapsed": false
   },
   "outputs": [],
   "source": [
    "start = time.clock()\n",
    "# 创建数据连接\n",
    "db = pymysql.connect('localhost',\n",
    "                     'root',\n",
    "                     'zx041400414.',\n",
    "                     'eyesight')\n",
    "# 使用cursor()方法创建一个游标对象\n",
    "cursor = db.cursor()\n",
    "\n",
    "# 使用executr()方法执行SQL，如果表存在则删除\n",
    "cursor.execute(\"DROP TABLE IF EXISTS eye_diagram\")\n",
    "\n",
    "# 使用预处理语句创建表\n",
    "sql_table = \"\"\"create table eye_diagram(\n",
    "                diagram_id  int  not null auto_increment,\n",
    "                eye_data MEDIUMBLOB not null,\n",
    "                ber float not null,\n",
    "                snr float not null,\n",
    "                size VARCHAR(100) not null,\n",
    "                update_time timestamp DEFAULT CURRENT_TIMESTAMP ON UPDATE CURRENT_TIMESTAMP,\n",
    "                PRIMARY key (diagram_id) )\"\"\"\n",
    "cursor.execute(sql_table)\n",
    "\n",
    "# sql插入语句\n",
    "eye_data = []\n",
    "for i in range(eye_num):\n",
    "    #eye_data.append([encode(str(dataset[i,:,:])),labels[i],snr[i],eye_size])\n",
    "    img_bite = encode(str(dataset[i,:,:]))\n",
    "    sql_insert = \"INSERT INTO eye_diagram(eye_data,ber,snr,size)VALUES('%s','%f','%f','%s')\"%(img_bite,labels[i],snr[i],eye_size)\n",
    "    try:\n",
    "        cursor.execute(sql_insert)\n",
    "        db.commit()\n",
    "    except:\n",
    "        db.rollback()\n",
    "db.close()\n",
    "end = time.clock()\n",
    "print('Running time:%s Seconds'%(end-start))"
   ]
  },
  {
   "cell_type": "code",
   "execution_count": null,
   "metadata": {
    "collapsed": false
   },
   "outputs": [],
   "source": [
    "start = time.clock()\n",
    "# 创建数据连接\n",
    "db = pymysql.connect('localhost',\n",
    "                     'root',\n",
    "                     'zx041400414.',\n",
    "                     'eyesight')\n",
    "# 使用cursor()方法创建一个游标对象\n",
    "cursor = db.cursor()\n",
    "cursor.execute('select * from eye_diagram')\n",
    "result = cursor.fetchall()\n",
    "#img_str = decode(result)\n",
    "#print(result)\n",
    "#print(img_str)\n",
    "end = time.clock()\n",
    "print('Running time:%s Seconds'%(end-start))"
   ]
  },
  {
   "cell_type": "code",
   "execution_count": null,
   "metadata": {
    "collapsed": true
   },
   "outputs": [],
   "source": []
  }
 ],
 "metadata": {
  "anaconda-cloud": {},
  "kernelspec": {
   "display_name": "Python [default]",
   "language": "python",
   "name": "python3"
  },
  "language_info": {
   "codemirror_mode": {
    "name": "ipython",
    "version": 3
   },
   "file_extension": ".py",
   "mimetype": "text/x-python",
   "name": "python",
   "nbconvert_exporter": "python",
   "pygments_lexer": "ipython3",
   "version": "3.5.2"
  }
 },
 "nbformat": 4,
 "nbformat_minor": 1
}
