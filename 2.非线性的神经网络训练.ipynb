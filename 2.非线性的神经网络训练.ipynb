{
 "cells": [
  {
   "cell_type": "code",
   "execution_count": null,
   "metadata": {},
   "outputs": [],
   "source": [
    "import tensorflow as tf\n",
    "import numpy as np\n",
    "import matplotlib.pyplot as plt"
   ]
  },
  {
   "cell_type": "code",
   "execution_count": null,
   "metadata": {},
   "outputs": [],
   "source": [
    "#使用numpy生成两百个随机点\n",
    "#np.linspace生成[-0.5，0.5]均匀分布的200个数字\n",
    "#[:,np.newaxis]扩展维度  但是具体有什么用。不懂，没有形象\n",
    "x_data =  np.linspace(-0.5,0.5,200)[:,np.newaxis]\n",
    "#正态分布(均值，标准差，形状)\n",
    "noise = np.random.normal(0,0.02,x_data.shape)\n",
    "y_data = np.square(x_data) + noise\n",
    "\n",
    "#定义两个placeholder \n",
    "#因为神经网络是以batch进行训练，所以需要feed\n",
    "#此函数可以理解为形参，先占位，后赋值\n",
    "#(数据类型，形状(None表一维，默认)，名称)\n",
    "x = tf.placeholder(tf.float32,[None,1])\n",
    "y = tf.placeholder(tf.float32,[None,1])\n",
    "\n",
    "#神经网络1-10-1\n",
    "#定义隐层\n",
    "weight_L1 = tf.Variable(tf.random_normal([1,10]))\n",
    "biases_L1 = tf.Variable(tf.zeros([1,10]))\n",
    "Wx_plus_b_L1 =  tf.matmul(x,weight_L1) + biases_L1\n",
    "#激活函数，tf.nn提供神经网络相关操作\n",
    "L1 = tf.nn.tanh(Wx_plus_b_L1)\n",
    "\n",
    "#定义输出层\n",
    "weight_L2 = tf.Variable(tf.random_normal([10,1]))\n",
    "biases_L2 = tf.Variable(tf.zeros([1,1]))\n",
    "Wx_plus_b_L2 = tf.matmul(L1,weight_L2) + biases_L2\n",
    "prediction = tf.nn.tanh(Wx_plus_b_L2)\n",
    "\n",
    "#二次代价函数\n",
    "#可跨越维度的计算张量个元素的平均值\n",
    "loss = tf.reduce_mean(tf.square(prediction - y))\n",
    "train = tf.train.GradientDescentOptimizer(0.1).minimize(loss)\n",
    "init = tf.global_variables_initializer()\n",
    "with tf.Session() as sess:\n",
    "    sess.run(init)\n",
    "    for i in range(2001):\n",
    "        #feed_dict的作用是使用placeholder创建出来的tensor赋值\n",
    "        sess.run(train,feed_dict={x:x_data,y:y_data})\n",
    "    #获得预测值\n",
    "    #这里feed应该是用测试集\n",
    "    prediction_value = sess.run(prediction,feed_dict={x:x_data})\n",
    "    plt.figure()\n",
    "    plt.scatter(x_data,y_data)\n",
    "    plt.plot(x_data,prediction_value,'r-',lw=5)\n",
    "    plt.show()"
   ]
  },
  {
   "cell_type": "code",
   "execution_count": null,
   "metadata": {},
   "outputs": [],
   "source": []
  }
 ],
 "metadata": {
  "kernelspec": {
   "display_name": "Python 3",
   "language": "python",
   "name": "python3"
  },
  "language_info": {
   "codemirror_mode": {
    "name": "ipython",
    "version": 3
   },
   "file_extension": ".py",
   "mimetype": "text/x-python",
   "name": "python",
   "nbconvert_exporter": "python",
   "pygments_lexer": "ipython3",
   "version": "3.6.5"
  }
 },
 "nbformat": 4,
 "nbformat_minor": 1
}
