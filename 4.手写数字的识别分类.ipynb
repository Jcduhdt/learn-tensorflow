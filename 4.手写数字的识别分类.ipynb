{
 "cells": [
  {
   "cell_type": "code",
   "execution_count": 1,
   "metadata": {
    "collapsed": true
   },
   "outputs": [],
   "source": [
    "import tensorflow as tf\n",
    "from tensorflow.examples.tutorials.mnist import input_data"
   ]
  },
  {
   "cell_type": "code",
   "execution_count": 3,
   "metadata": {
    "collapsed": false
   },
   "outputs": [
    {
     "name": "stdout",
     "output_type": "stream",
     "text": [
      "Extracting D:\\Anaconda3\\Tensorflow\\MNIST_data\\train-images-idx3-ubyte.gz\n",
      "Extracting D:\\Anaconda3\\Tensorflow\\MNIST_data\\train-labels-idx1-ubyte.gz\n",
      "Extracting D:\\Anaconda3\\Tensorflow\\MNIST_data\\t10k-images-idx3-ubyte.gz\n",
      "Extracting D:\\Anaconda3\\Tensorflow\\MNIST_data\\t10k-labels-idx1-ubyte.gz\n",
      "Iter 0, Testing Accuracy 0.8285\n",
      "Iter 1, Testing Accuracy 0.8939\n",
      "Iter 2, Testing Accuracy 0.9021\n",
      "Iter 3, Testing Accuracy 0.9053\n",
      "Iter 4, Testing Accuracy 0.9098\n",
      "Iter 5, Testing Accuracy 0.911\n",
      "Iter 6, Testing Accuracy 0.9128\n",
      "Iter 7, Testing Accuracy 0.9132\n",
      "Iter 8, Testing Accuracy 0.9141\n",
      "Iter 9, Testing Accuracy 0.9156\n",
      "Iter 10, Testing Accuracy 0.9173\n",
      "Iter 11, Testing Accuracy 0.919\n",
      "Iter 12, Testing Accuracy 0.9198\n",
      "Iter 13, Testing Accuracy 0.9197\n",
      "Iter 14, Testing Accuracy 0.9198\n",
      "Iter 15, Testing Accuracy 0.9204\n",
      "Iter 16, Testing Accuracy 0.9209\n",
      "Iter 17, Testing Accuracy 0.9211\n",
      "Iter 18, Testing Accuracy 0.9208\n",
      "Iter 19, Testing Accuracy 0.9212\n",
      "Iter 20, Testing Accuracy 0.9217\n"
     ]
    }
   ],
   "source": [
    "#识别手写数字1-9 分类\n",
    "#载入数据集\n",
    "#当前路径的MNIST_DATA，引号内即路径\n",
    "#one_hot 把标签转化成01的形式，只有一个是1 其余为0\n",
    "mnist = input_data.read_data_sets(\"D:\\Anaconda3\\Tensorflow\\MNIST_data\",one_hot=True)\n",
    "#每个批次的大小\n",
    "#一次性放这么多张图片进行训练，以矩阵形式\n",
    "batch_size = 100\n",
    "#计算一共有多少个批次 //整除\n",
    "n_batch = mnist.train.num_examples // batch_size\n",
    "\n",
    "#定义两个placeholder\n",
    "x = tf.placeholder(tf.float32,[None,784])\n",
    "y = tf.placeholder(tf.float32,[None,10])\n",
    "\n",
    "#创建一个简单的神经网络\n",
    "#784-10 无隐层\n",
    "#28*28的图片\n",
    "w = tf.Variable(tf.zeros([784,10]))\n",
    "b = tf.Variable(tf.zeros([10]))\n",
    "prediction = tf.nn.softmax(tf.matmul(x,w)+b)\n",
    "\n",
    "#二次代价函数\n",
    "#loss = tf.reduce_mean(tf.square(y - prediction))\n",
    "#交叉熵\n",
    "loss = tf.reduce_mean(tf.nn.softmax_cross_entropy_with_logits(labels = y,logits = prediction))\n",
    "#梯度下降\n",
    "train = tf.train.GradientDescentOptimizer(0.2).minimize(loss)\n",
    "\n",
    "init = tf.global_variables_initializer()\n",
    "\n",
    "#结果存放在一个布尔型列表中\n",
    "#tf.equal比较两者大小，相同返回True,否则返回False\n",
    "#tf.argmax(array,axis)返回最大值所在下标\n",
    "#axis = 0,比较所有数组中相同位置的最大\n",
    "#axis = 1，比较每个数组内的最大\n",
    "correct_prediction = tf.equal(tf.argmax(y,1),tf.argmax(prediction,1))\n",
    "#求准确率\n",
    "#tf.cast布尔型转换成浮点型True =1.0  False = 0.0\n",
    "accuracy = tf.reduce_mean(tf.cast(correct_prediction,tf.float32))\n",
    "\n",
    "with tf.Session() as sess:\n",
    "    sess.run(init)\n",
    "    #所有图片训练21次\n",
    "    for epoch in range(21):\n",
    "        #所有图片训练1次\n",
    "        for batch in range(n_batch):\n",
    "            #训练集,先把模型训练出来\n",
    "            batch_xs,batch_yx = mnist.train.next_batch(batch_size)\n",
    "            sess.run(train,feed_dict={x:batch_xs,y:batch_yx})\n",
    "            \n",
    "        acc = sess.run(accuracy,feed_dict={x:mnist.test.images,y:mnist.test.labels})\n",
    "        print(\"Iter \"+ str(epoch) + \", Testing Accuracy \"+ str(acc))"
   ]
  },
  {
   "cell_type": "code",
   "execution_count": null,
   "metadata": {
    "collapsed": true
   },
   "outputs": [],
   "source": []
  }
 ],
 "metadata": {
  "anaconda-cloud": {},
  "kernelspec": {
   "display_name": "Python [default]",
   "language": "python",
   "name": "python3"
  },
  "language_info": {
   "codemirror_mode": {
    "name": "ipython",
    "version": 3
   },
   "file_extension": ".py",
   "mimetype": "text/x-python",
   "name": "python",
   "nbconvert_exporter": "python",
   "pygments_lexer": "ipython3",
   "version": "3.5.2"
  }
 },
 "nbformat": 4,
 "nbformat_minor": 1
}
